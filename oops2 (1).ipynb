{
 "cells": [
  {
   "cell_type": "markdown",
   "id": "017c38e0-2d65-46f7-a4b0-f5c122845f81",
   "metadata": {},
   "source": [
    "# Q1. What is Abstraction in OOps? Explain with an example.\n"
   ]
  },
  {
   "cell_type": "markdown",
   "id": "ce8731ae-b950-4ac2-81b9-96d149605e06",
   "metadata": {},
   "source": [
    "### that focuses on representing essential features and hiding unnecessary details. It allows us to create classes and objects that provide a simplified and high-level view of a system or a concept. And in other words it can be called as blueprint and we can change as we like after anwords"
   ]
  },
  {
   "cell_type": "code",
   "execution_count": 4,
   "id": "2c5083d9-1e0a-459f-9248-e572186902a0",
   "metadata": {},
   "outputs": [],
   "source": [
    "from abc import  ABC ,abstractmethod # this is inbuilt func \n",
    "\n",
    "class home(ABC): #inheriting the properties of abc\n",
    "    \n",
    "    @abstractmethod   #using 'absratcction'decorator \n",
    "    def living_room():\n",
    "        pass\n",
    "        \n",
    "    @abstractmethod   #using 'absratcction'decorator \n",
    "    def kitichen():\n",
    "        pass\n",
    "    \n",
    "    @abstractmethod   #using 'absratcction'decorator \n",
    "    def rest_room():\n",
    "        pass\n",
    "    \n",
    "    @abstractmethod   #using 'absratcction'decorator \n",
    "    def bedroom():\n",
    "        pass\n",
    "    \n",
    "    \n",
    "class darshan_house(home):\n",
    "    def living_room(self):\n",
    "        return \"This is livingroom\"\n",
    "    def kitichen(self):\n",
    "        return \"This is kitichen\"\n",
    "    def bedroom(self):\n",
    "        return \"This is bedroom\"\n",
    "    def rest_room(self):\n",
    "        return \"This is rest_room\"\n",
    "    \n",
    "    \n",
    "obj=darshan_house()\n"
   ]
  },
  {
   "cell_type": "markdown",
   "id": "9a75be40-17f4-4041-af81-801f473567f5",
   "metadata": {},
   "source": [
    "# Q2. Differentiate between Abstraction and Encapsulation. Explain with an example."
   ]
  },
  {
   "cell_type": "markdown",
   "id": "aef07e6f-85ea-4e62-bb4a-5a46fd2f7230",
   "metadata": {},
   "source": [
    "### ABSTRACTION:\n",
    "    1) Absraction is a one of the building piller of oops\n",
    "    2) This used to build blueprint of methods wich can override those using inheritance concepts\n",
    "    3)We can achive this absraction by importing module named 'abc'\n",
    "    4) We use dunder named'@absrctmethod'\n",
    "    5) Abstraction focuses on representing essential features of an object while hiding unnecessary details. It provides a simplified view of an object by defining its essential characteristics and behaviors. Abstraction helps in managing complexity and improves code maintainability.\n",
    "\n",
    "### ENCAPSULATION\n",
    "    1)It binds data and function together \n",
    "    2) encapsulation is also a process of hinding the datamemberss from direct asscing outside the class\n",
    "    3) Here we use setters and getters methods to view and update the values of the datamembers of the clas\n",
    "    4)Encapsulation is the bundling of data and methods into a single unit called a class. It allows for data hiding and provides a way to control access to the internal state of an object."
   ]
  },
  {
   "cell_type": "markdown",
   "id": "bc5d3c3a-ecd6-40ea-b9e3-39c4e4ab0ed9",
   "metadata": {},
   "source": [
    "# Q3. What is abc module in python? Why is it used?"
   ]
  },
  {
   "cell_type": "markdown",
   "id": "339c725a-bbad-437c-a192-10dd13038a90",
   "metadata": {},
   "source": [
    "The abc module in Python stands for \"Abstract Base Classes.\" It provides a way to define abstract classes in Python. Abstract classes are classes that cannot be instantiated and are meant to be inherited from by other classes.\n",
    "\n",
    "The abc module is used to define abstract base classes, abstract methods, and enforce the implementation of these abstract methods in subclasses. It helps in enforcing a certain structure or interface for subclasses and provides a way to create common functionality that can be shared across multiple classes.\n",
    "\n",
    "\n",
    "used for:-\n",
    "The main purpose of using the abc module is to promote abstraction and ensure that certain methods or behaviors are implemented by subclasses. It helps in designing more robust and maintainable code by providing a clear contract between the base class and its subclasses."
   ]
  },
  {
   "cell_type": "markdown",
   "id": "477eccd9-6462-42ce-9e86-7229f95a7168",
   "metadata": {},
   "source": [
    "# Q4. How can we achieve data abstraction?"
   ]
  },
  {
   "cell_type": "markdown",
   "id": "db59c3d7-8a6e-4290-b207-b4837edfedb7",
   "metadata": {},
   "source": [
    "#### Other than using 'abc' modlue we can achive data abstraction by\n",
    "#### 1.Define a class with private attributes and methods.\n",
    "#### 2.Use access modifiers (such as leading underscore \"_\") to mark attributes as private.\n",
    "#### 3.Implement getter methods to retrieve the values of private attributes.\n",
    "#### 4.Implement setter methods to modify the values of private attributes.\n",
    "#### 5.Use encapsulation to bundle data and methods within the class.\n",
    "#### 6.Provide a public interface for interacting with the data.\n",
    "#### 7.Hide internal implementation details from external code.\n",
    "#### 8.Utilize abstraction techniques such as abstract classes or interfaces if necessary.\n",
    "#### 9.Ensure that internal data is only accessed or modified through defined methods.\n",
    "#### 10.Use data hiding to restrict direct access to private attributes."
   ]
  },
  {
   "cell_type": "markdown",
   "id": "975b8d92-3bcc-4a55-a02f-ae2b1d1b86dd",
   "metadata": {},
   "source": [
    "# Q5. Can we create an instance of an abstract class? Explain your answer."
   ]
  },
  {
   "cell_type": "markdown",
   "id": "c995c0c5-dd6c-475e-ad80-1f135f6d2211",
   "metadata": {},
   "source": [
    "#### No, we cannot create an instance of an abstract class in Python.\n",
    "\n",
    "#### An abstract class is a class that is meant to be inherited from, serving as a blueprint for other classes. It contains one or more abstract methods, which are methods without any implementation. The purpose of an abstract class is to define a common interface or structure that its subclasses must adhere to# "
   ]
  },
  {
   "cell_type": "code",
   "execution_count": null,
   "id": "3eb672f9-ae19-42b2-b52d-febdec3dcb76",
   "metadata": {},
   "outputs": [],
   "source": []
  }
 ],
 "metadata": {
  "kernelspec": {
   "display_name": "Python 3 (ipykernel)",
   "language": "python",
   "name": "python3"
  },
  "language_info": {
   "codemirror_mode": {
    "name": "ipython",
    "version": 3
   },
   "file_extension": ".py",
   "mimetype": "text/x-python",
   "name": "python",
   "nbconvert_exporter": "python",
   "pygments_lexer": "ipython3",
   "version": "3.10.8"
  }
 },
 "nbformat": 4,
 "nbformat_minor": 5
}
